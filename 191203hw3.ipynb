{
 "cells": [
  {
   "cell_type": "code",
   "execution_count": 1,
   "metadata": {},
   "outputs": [],
   "source": [
    "%matplotlib inline\n",
    "import numpy as np\n",
    "import matplotlib.pyplot as plt\n",
    "import pandas as pd"
   ]
  },
  {
   "cell_type": "code",
   "execution_count": 4,
   "metadata": {},
   "outputs": [
    {
     "name": "stdout",
     "output_type": "stream",
     "text": [
      "看兩個機器人玩剪刀石頭布!\n",
      "機器人1出:布\n",
      "機器人2出:石頭\n",
      "機器人1贏了!恭喜!\n"
     ]
    }
   ],
   "source": [
    "print(\"看兩個機器人玩剪刀石頭布!\")\n",
    "\n",
    "egg = [\"剪刀\", \"石頭\", \"布\"]\n",
    "\n",
    "robot1 = np.random.choice(egg)\n",
    "\n",
    "robot2 = np.random.choice(egg)\n",
    "\n",
    "print(\"機器人1出:{}\".format(robot1))\n",
    "print(\"機器人2出:{}\".format(robot2))\n",
    "\n",
    "if(robot1==robot2):\n",
    "    print(\"平手!\")\n",
    "elif(((robot1 == \"剪刀\")and(robot2 == \"布\"))or((robot1 == \"石頭\")and(robot2 == \"剪刀\"))or((robot1 == \"布\")and(robot2 == \"石頭\"))):\n",
    "    print(\"機器人1贏了!恭喜!\")\n",
    "else:\n",
    "    print(\"機器人2贏了!恭喜!\")"
   ]
  },
  {
   "cell_type": "code",
   "execution_count": null,
   "metadata": {},
   "outputs": [],
   "source": []
  }
 ],
 "metadata": {
  "kernelspec": {
   "display_name": "Python 3",
   "language": "python",
   "name": "python3"
  },
  "language_info": {
   "codemirror_mode": {
    "name": "ipython",
    "version": 3
   },
   "file_extension": ".py",
   "mimetype": "text/x-python",
   "name": "python",
   "nbconvert_exporter": "python",
   "pygments_lexer": "ipython3",
   "version": "3.7.3"
  }
 },
 "nbformat": 4,
 "nbformat_minor": 2
}
