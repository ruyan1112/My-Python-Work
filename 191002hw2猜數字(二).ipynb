{
 "cells": [
  {
   "cell_type": "code",
   "execution_count": 1,
   "metadata": {},
   "outputs": [],
   "source": [
    "%matplotlib inline\n",
    "import numpy as np\n",
    "import matplotlib.pyplot as plt\n",
    "import pandas as pd"
   ]
  },
  {
   "cell_type": "code",
   "execution_count": 2,
   "metadata": {},
   "outputs": [],
   "source": [
    "from numpy.random import randint"
   ]
  },
  {
   "cell_type": "code",
   "execution_count": 4,
   "metadata": {},
   "outputs": [
    {
     "name": "stdout",
     "output_type": "stream",
     "text": [
      "請輸入一個1~100的數字:\n",
      ">> 50\n",
      "你猜了50\n",
      "50~100, 再猜一次\n",
      ">> 75\n",
      "你猜了75\n",
      "75~100, 再猜一次\n",
      ">> 85\n",
      "你猜了85\n",
      "75~85, 再猜一次\n",
      ">> 80\n",
      "你猜了80\n",
      "75~80, 再猜一次\n",
      ">> 77\n",
      "你猜了77\n",
      "77~80, 再猜一次\n",
      ">> 78\n",
      "你猜了78\n",
      "78~80, 再猜一次\n",
      ">> 79\n",
      "你猜了79\n",
      "答對了!答案是79\n"
     ]
    }
   ],
   "source": [
    "ans = randint(2, 100)\n",
    "print(\"請輸入一個1~100的數字:\")\n",
    "a = 1\n",
    "b = 100\n",
    "\n",
    "while True:\n",
    "    guess = input(\">> \")\n",
    "    print(\"你猜了{}\".format(guess))\n",
    "    if(int(guess) > ans):\n",
    "        b = guess\n",
    "        print(\"{}~{}, 再猜一次\".format(a, b))\n",
    "    elif(int(guess) < ans):\n",
    "        a = guess\n",
    "        print(\"{}~{}, 再猜一次\".format(a, b))\n",
    "    else:\n",
    "        print(\"答對了!答案是{}\".format(ans))\n",
    "        break"
   ]
  },
  {
   "cell_type": "code",
   "execution_count": null,
   "metadata": {},
   "outputs": [],
   "source": []
  }
 ],
 "metadata": {
  "kernelspec": {
   "display_name": "Python 3",
   "language": "python",
   "name": "python3"
  },
  "language_info": {
   "codemirror_mode": {
    "name": "ipython",
    "version": 3
   },
   "file_extension": ".py",
   "mimetype": "text/x-python",
   "name": "python",
   "nbconvert_exporter": "python",
   "pygments_lexer": "ipython3",
   "version": "3.7.3"
  }
 },
 "nbformat": 4,
 "nbformat_minor": 2
}
