{
 "cells": [
  {
   "cell_type": "code",
   "execution_count": 10,
   "metadata": {},
   "outputs": [
    {
     "name": "stdout",
     "output_type": "stream",
     "text": [
      "我的課表\n"
     ]
    },
    {
     "data": {
      "application/vnd.jupyter.widget-view+json": {
       "model_id": "5f3bd2cf8496453a8319fcb939a41d44",
       "version_major": 2,
       "version_minor": 0
      },
      "text/plain": [
       "interactive(children=(Dropdown(description='星期', options={'一': 'D56:國文;78:視力保健', '二': '12:數學導論;34:微積分;78:生活中的經…"
      ]
     },
     "metadata": {},
     "output_type": "display_data"
    }
   ],
   "source": [
    "from ipywidgets import interact\n",
    "\n",
    "def f(星期):\n",
    "    print(星期)\n",
    "    \n",
    "print(\"我的課表\")\n",
    "\n",
    "interact(f, 星期 = dict(\n",
    "                        一=(\"D56:國文;78:視力保健\"),\n",
    "                        二=(\"12:數學導論;34:微積分;78:生活中的經濟學\"),\n",
    "                        三=(\"234:數學軟體應用;D56:英文;EF:微積分實習課\"),\n",
    "                        四=(\"12:數學導論;34:微積分\"),\n",
    "                        五=(\"34:體育;CD:生活中的經濟學TA課\")\n",
    "                     )\n",
    "        );"
   ]
  }
 ],
 "metadata": {
  "kernelspec": {
   "display_name": "Python 3",
   "language": "python",
   "name": "python3"
  },
  "language_info": {
   "codemirror_mode": {
    "name": "ipython",
    "version": 3
   },
   "file_extension": ".py",
   "mimetype": "text/x-python",
   "name": "python",
   "nbconvert_exporter": "python",
   "pygments_lexer": "ipython3",
   "version": "3.7.3"
  }
 },
 "nbformat": 4,
 "nbformat_minor": 2
}
