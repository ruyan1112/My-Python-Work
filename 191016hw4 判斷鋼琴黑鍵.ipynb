{
 "cells": [
  {
   "cell_type": "code",
   "execution_count": 5,
   "metadata": {},
   "outputs": [],
   "source": [
    "%matplotlib inline\n",
    "import numpy as np\n",
    "import matplotlib.pyplot as plt\n",
    "import pandas as pd"
   ]
  },
  {
   "cell_type": "code",
   "execution_count": 24,
   "metadata": {},
   "outputs": [
    {
     "name": "stdout",
     "output_type": "stream",
     "text": [
      "來尋找鋼琴的白鍵兩旁有幾個黑鍵\n",
      "請問是第幾個白鍵呢(1~52)>> 10\n",
      "第10個白鍵兩旁只有一個黑鍵!\n"
     ]
    }
   ],
   "source": [
    "print('來尋找鋼琴的白鍵兩旁有幾個黑鍵')\n",
    "n = int(input('請問是第幾個白鍵呢(1~52)>> '))\n",
    "\n",
    "if ((n % 7 == 2)or(n % 7 == 5)or(n % 7 == 6)):\n",
    "    print('第{}個白鍵左右都有黑鍵!'.format(n))\n",
    "\n",
    "else:\n",
    "    print('第{}個白鍵兩旁只有一個黑鍵!'.format(n))"
   ]
  },
  {
   "cell_type": "code",
   "execution_count": null,
   "metadata": {},
   "outputs": [],
   "source": []
  }
 ],
 "metadata": {
  "kernelspec": {
   "display_name": "Python 3",
   "language": "python",
   "name": "python3"
  },
  "language_info": {
   "codemirror_mode": {
    "name": "ipython",
    "version": 3
   },
   "file_extension": ".py",
   "mimetype": "text/x-python",
   "name": "python",
   "nbconvert_exporter": "python",
   "pygments_lexer": "ipython3",
   "version": "3.7.3"
  }
 },
 "nbformat": 4,
 "nbformat_minor": 2
}
