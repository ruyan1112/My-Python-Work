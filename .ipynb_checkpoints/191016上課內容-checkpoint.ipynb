{
 "cells": [
  {
   "cell_type": "code",
   "execution_count": 18,
   "metadata": {},
   "outputs": [],
   "source": [
    "%matplotlib inline\n",
    "import numpy as np\n",
    "import matplotlib.pyplot as plt\n",
    "import pandas as pd"
   ]
  },
  {
   "cell_type": "code",
   "execution_count": 2,
   "metadata": {},
   "outputs": [],
   "source": [
    "st = '拍拍'"
   ]
  },
  {
   "cell_type": "code",
   "execution_count": 3,
   "metadata": {},
   "outputs": [
    {
     "data": {
      "text/plain": [
       "'拍拍'"
      ]
     },
     "execution_count": 3,
     "metadata": {},
     "output_type": "execute_result"
    }
   ],
   "source": [
    "st"
   ]
  },
  {
   "cell_type": "code",
   "execution_count": 4,
   "metadata": {},
   "outputs": [
    {
     "name": "stdout",
     "output_type": "stream",
     "text": [
      "拍拍\n"
     ]
    }
   ],
   "source": [
    "print(st)"
   ]
  },
  {
   "cell_type": "code",
   "execution_count": 5,
   "metadata": {},
   "outputs": [
    {
     "data": {
      "text/plain": [
       "2"
      ]
     },
     "execution_count": 5,
     "metadata": {},
     "output_type": "execute_result"
    }
   ],
   "source": [
    "st.count('拍')  ##數拍出現幾次"
   ]
  },
  {
   "cell_type": "code",
   "execution_count": 6,
   "metadata": {},
   "outputs": [],
   "source": [
    "class Card:   ##資料型態\n",
    "    suit = 3  ##花色\n",
    "    rank = 5  ##點數"
   ]
  },
  {
   "cell_type": "code",
   "execution_count": 7,
   "metadata": {},
   "outputs": [],
   "source": [
    "card01 = Card()"
   ]
  },
  {
   "cell_type": "code",
   "execution_count": 8,
   "metadata": {},
   "outputs": [],
   "source": [
    "card02 = Card()"
   ]
  },
  {
   "cell_type": "code",
   "execution_count": 9,
   "metadata": {},
   "outputs": [
    {
     "data": {
      "text/plain": [
       "<__main__.Card at 0x240e421ffd0>"
      ]
     },
     "execution_count": 9,
     "metadata": {},
     "output_type": "execute_result"
    }
   ],
   "source": [
    "card01"
   ]
  },
  {
   "cell_type": "code",
   "execution_count": 10,
   "metadata": {},
   "outputs": [
    {
     "data": {
      "text/plain": [
       "3"
      ]
     },
     "execution_count": 10,
     "metadata": {},
     "output_type": "execute_result"
    }
   ],
   "source": [
    "card01.suit  ##預設花色"
   ]
  },
  {
   "cell_type": "code",
   "execution_count": 11,
   "metadata": {},
   "outputs": [],
   "source": [
    "card01.suit = 2  ##改花色"
   ]
  },
  {
   "cell_type": "code",
   "execution_count": 12,
   "metadata": {},
   "outputs": [
    {
     "data": {
      "text/plain": [
       "2"
      ]
     },
     "execution_count": 12,
     "metadata": {},
     "output_type": "execute_result"
    }
   ],
   "source": [
    "card01.suit"
   ]
  },
  {
   "cell_type": "code",
   "execution_count": 13,
   "metadata": {},
   "outputs": [
    {
     "data": {
      "text/plain": [
       "str"
      ]
     },
     "execution_count": 13,
     "metadata": {},
     "output_type": "execute_result"
    }
   ],
   "source": [
    "type(st)  ##看資料型態"
   ]
  },
  {
   "cell_type": "code",
   "execution_count": 14,
   "metadata": {},
   "outputs": [
    {
     "data": {
      "text/plain": [
       "__main__.Card"
      ]
     },
     "execution_count": 14,
     "metadata": {},
     "output_type": "execute_result"
    }
   ],
   "source": [
    "type(card01)"
   ]
  },
  {
   "cell_type": "markdown",
   "metadata": {},
   "source": [
    "### 希望\n",
    "    card01 = Card(1,10)"
   ]
  },
  {
   "cell_type": "markdown",
   "metadata": {},
   "source": [
    "### 特別 method\n",
    "    __init__   ##兩個底線   ##會先去執行有底線的"
   ]
  },
  {
   "cell_type": "code",
   "execution_count": 15,
   "metadata": {},
   "outputs": [],
   "source": [
    "class Card:   ##類別\n",
    "    def __init__(self, s, r):   ##self(我自己)\n",
    "        self.suit = s\n",
    "        self.rank = r"
   ]
  },
  {
   "cell_type": "code",
   "execution_count": 16,
   "metadata": {},
   "outputs": [],
   "source": [
    "card01 = Card(2, 10)"
   ]
  },
  {
   "cell_type": "code",
   "execution_count": 19,
   "metadata": {},
   "outputs": [
    {
     "data": {
      "text/plain": [
       "2"
      ]
     },
     "execution_count": 19,
     "metadata": {},
     "output_type": "execute_result"
    }
   ],
   "source": [
    "card01.suit"
   ]
  },
  {
   "cell_type": "code",
   "execution_count": 20,
   "metadata": {},
   "outputs": [
    {
     "data": {
      "text/plain": [
       "10"
      ]
     },
     "execution_count": 20,
     "metadata": {},
     "output_type": "execute_result"
    }
   ],
   "source": [
    "card01.rank"
   ]
  },
  {
   "cell_type": "code",
   "execution_count": 21,
   "metadata": {},
   "outputs": [
    {
     "data": {
      "text/plain": [
       "<__main__.Card at 0x240e422e0f0>"
      ]
     },
     "execution_count": 21,
     "metadata": {},
     "output_type": "execute_result"
    }
   ],
   "source": [
    "card01"
   ]
  },
  {
   "cell_type": "code",
   "execution_count": 26,
   "metadata": {},
   "outputs": [],
   "source": [
    "class Card:\n",
    "    \n",
    "    SUITS = ['♠', '♥', '♣', '♦']\n",
    "    RANKS = ['A', '2', '3', '4', '5', '6', '7', '8', '9', '10', 'J', 'Q', 'K']\n",
    "    \n",
    "    def __init__(self, s, r):\n",
    "        self.suit = s\n",
    "        self.rank = r\n",
    "        \n",
    "    def show(self):\n",
    "        thecard = self.SUITS[self.suit] + self.RANKS[self.rank]   ##記得把self讀進來\n",
    "        print(thecard)"
   ]
  },
  {
   "cell_type": "code",
   "execution_count": 27,
   "metadata": {},
   "outputs": [],
   "source": [
    "card01 = Card(1, 8)\n",
    "card02 = Card(3, 10)  ##10是J"
   ]
  },
  {
   "cell_type": "code",
   "execution_count": 28,
   "metadata": {},
   "outputs": [
    {
     "name": "stdout",
     "output_type": "stream",
     "text": [
      "♦J\n"
     ]
    }
   ],
   "source": [
    "card02.show()"
   ]
  },
  {
   "cell_type": "code",
   "execution_count": 29,
   "metadata": {},
   "outputs": [
    {
     "data": {
      "text/plain": [
       "<__main__.Card at 0x240e41e5198>"
      ]
     },
     "execution_count": 29,
     "metadata": {},
     "output_type": "execute_result"
    }
   ],
   "source": [
    "card02"
   ]
  },
  {
   "cell_type": "code",
   "execution_count": 30,
   "metadata": {},
   "outputs": [
    {
     "name": "stdout",
     "output_type": "stream",
     "text": [
      "<__main__.Card object at 0x00000240E41E5198>\n"
     ]
    }
   ],
   "source": [
    "print(card02)"
   ]
  },
  {
   "cell_type": "code",
   "execution_count": 31,
   "metadata": {},
   "outputs": [],
   "source": [
    "class Card:\n",
    "    \n",
    "    SUITS = ['♠', '♥', '♣', '♦']\n",
    "    RANKS = ['A', '2', '3', '4', '5', '6', '7', '8', '9', '10', 'J', 'Q', 'K']\n",
    "    \n",
    "    def __init__(self, s, r):\n",
    "        self.suit = s\n",
    "        self.rank = r\n",
    "        \n",
    "    def __repr__(self):  ##把show改成representation  ##可以直接顯示!!\n",
    "        thecard = self.SUITS[self.suit] + self.RANKS[self.rank]   ##記得把self讀進來\n",
    "        return thecard"
   ]
  },
  {
   "cell_type": "code",
   "execution_count": 32,
   "metadata": {},
   "outputs": [],
   "source": [
    "card01 = Card(0, 7)\n",
    "card02 = Card(2, 3)"
   ]
  },
  {
   "cell_type": "code",
   "execution_count": 33,
   "metadata": {},
   "outputs": [
    {
     "data": {
      "text/plain": [
       "♠8"
      ]
     },
     "execution_count": 33,
     "metadata": {},
     "output_type": "execute_result"
    }
   ],
   "source": [
    "card01"
   ]
  },
  {
   "cell_type": "code",
   "execution_count": 34,
   "metadata": {},
   "outputs": [
    {
     "name": "stdout",
     "output_type": "stream",
     "text": [
      "♣4\n"
     ]
    }
   ],
   "source": [
    "print(card02)"
   ]
  },
  {
   "cell_type": "markdown",
   "metadata": {},
   "source": [
    "## python的檔案功能"
   ]
  },
  {
   "cell_type": "code",
   "execution_count": 3,
   "metadata": {},
   "outputs": [],
   "source": [
    "mydic = {'apple':'蘋果', 'orange':'橘子', 'banana':'香蕉'}   ##字典檔"
   ]
  },
  {
   "cell_type": "code",
   "execution_count": 4,
   "metadata": {},
   "outputs": [
    {
     "data": {
      "text/plain": [
       "dict_keys(['apple', 'orange', 'banana'])"
      ]
     },
     "execution_count": 4,
     "metadata": {},
     "output_type": "execute_result"
    }
   ],
   "source": [
    "mydic.keys()"
   ]
  },
  {
   "cell_type": "code",
   "execution_count": 5,
   "metadata": {},
   "outputs": [
    {
     "data": {
      "text/plain": [
       "dict_values(['蘋果', '橘子', '香蕉'])"
      ]
     },
     "execution_count": 5,
     "metadata": {},
     "output_type": "execute_result"
    }
   ],
   "source": [
    "mydic.values()"
   ]
  },
  {
   "cell_type": "code",
   "execution_count": 6,
   "metadata": {},
   "outputs": [
    {
     "name": "stdout",
     "output_type": "stream",
     "text": [
      "apple 蘋果\n",
      "orange 橘子\n",
      "banana 香蕉\n"
     ]
    }
   ],
   "source": [
    "for eng in mydic.keys():\n",
    "    print(eng, mydic[eng])"
   ]
  },
  {
   "cell_type": "code",
   "execution_count": 7,
   "metadata": {},
   "outputs": [
    {
     "name": "stdout",
     "output_type": "stream",
     "text": [
      "apple,蘋果\n",
      "orange,橘子\n",
      "banana,香蕉\n"
     ]
    }
   ],
   "source": [
    "for eng in mydic.keys():\n",
    "    print(eng+','+mydic[eng])"
   ]
  },
  {
   "cell_type": "code",
   "execution_count": 8,
   "metadata": {},
   "outputs": [
    {
     "name": "stdout",
     "output_type": "stream",
     "text": [
      "apple,蘋果\n",
      "orange,橘子\n",
      "banana,香蕉\n"
     ]
    }
   ],
   "source": [
    "for eng in mydic.keys():\n",
    "    chi = mydic[eng]\n",
    "    print(f'{eng},{chi}')"
   ]
  },
  {
   "cell_type": "code",
   "execution_count": 9,
   "metadata": {},
   "outputs": [
    {
     "name": "stdout",
     "output_type": "stream",
     "text": [
      "apple,蘋果\n",
      "orange,橘子\n",
      "banana,香蕉\n"
     ]
    }
   ],
   "source": [
    "for eng in mydic.keys():\n",
    "    spam = [eng, mydic[eng]]\n",
    "    print(','.join(spam))"
   ]
  },
  {
   "cell_type": "markdown",
   "metadata": {},
   "source": [
    "## 存檔"
   ]
  },
  {
   "cell_type": "code",
   "execution_count": 10,
   "metadata": {},
   "outputs": [],
   "source": [
    "f = open('mydic.csv', 'w')  ##csv = 逗點隔開檔"
   ]
  },
  {
   "cell_type": "code",
   "execution_count": 11,
   "metadata": {},
   "outputs": [],
   "source": [
    "for eng in mydic.keys():\n",
    "    print(eng+','+mydic[eng], file=f)   ##增加file=f"
   ]
  },
  {
   "cell_type": "code",
   "execution_count": 12,
   "metadata": {},
   "outputs": [],
   "source": [
    "f.close()"
   ]
  },
  {
   "cell_type": "code",
   "execution_count": 14,
   "metadata": {
    "scrolled": true
   },
   "outputs": [
    {
     "name": "stdout",
     "output_type": "stream",
     "text": [
      " 磁碟區 C 中的磁碟是 Acer\n",
      " 磁碟區序號:  CEFC-4FC6\n",
      "\n",
      " C:\\spam\\My work 的目錄\n",
      "\n",
      "2019/10/16  上午 10:32    <DIR>          .\n",
      "2019/10/16  上午 10:32    <DIR>          ..\n",
      "2019/10/16  上午 09:17    <DIR>          .ipynb_checkpoints\n",
      "2019/09/25  上午 12:16             1,798 190918schedule.ipynb\n",
      "2019/10/15  下午 10:29           159,050 190918上課內容.ipynb\n",
      "2019/10/01  上午 12:06             1,528 190925hw等差數列.ipynb\n",
      "2019/10/01  上午 12:19             1,612 190925hw聖誕樹.ipynb\n",
      "2019/10/15  下午 10:24            24,039 190925上課內容.ipynb\n",
      "2019/10/07  下午 11:25             1,672 191002hw1費氏數列.ipynb\n",
      "2019/10/08  下午 10:02             2,275 191002hw2猜數字(二).ipynb\n",
      "2019/10/08  上午 06:35             1,537 191002hw3每日建議飲水量.ipynb\n",
      "2019/10/08  下午 10:47             2,639 191002hw4 機器人猜數字.ipynb\n",
      "2019/10/02  上午 09:59             6,604 191002上課內容.ipynb\n",
      "2019/10/15  下午 10:52             1,487 191009hw1用三角形邊長算面積.ipynb\n",
      "2019/10/15  下午 11:36            36,638 191009hw2推薦一首歌.ipynb\n",
      "2019/10/16  上午 12:59             1,686 191009hw3猜拳.ipynb\n",
      "2019/10/16  上午 12:31             1,443 191009hw4判斷閏年.ipynb\n",
      "2019/10/09  上午 11:58            62,249 191009上課內容.ipynb\n",
      "2019/10/16  上午 10:32            12,572 191016上課內容.ipynb\n",
      "2019/09/29  下午 08:13            16,069 m.jpg\n",
      "2019/10/16  上午 10:30                38 mydic.csv\n",
      "2019/10/02  上午 09:58               466 poem.py\n",
      "2019/10/02  上午 10:43                33 README.md.txt\n",
      "              20 個檔案         335,435 位元組\n",
      "               3 個目錄  183,988,174,848 位元組可用\n"
     ]
    }
   ],
   "source": [
    "%ls"
   ]
  },
  {
   "cell_type": "code",
   "execution_count": 23,
   "metadata": {},
   "outputs": [
    {
     "name": "stdout",
     "output_type": "stream",
     "text": [
      "apple,蘋果\n",
      "orange,橘子\n",
      "banana,香蕉\n"
     ]
    }
   ],
   "source": [
    "!type mydic.csv"
   ]
  },
  {
   "cell_type": "markdown",
   "metadata": {},
   "source": [
    "### windows\n",
    "    !type mydic.csv"
   ]
  },
  {
   "cell_type": "markdown",
   "metadata": {},
   "source": [
    "## 讀回我們存的檔案"
   ]
  },
  {
   "cell_type": "code",
   "execution_count": 17,
   "metadata": {},
   "outputs": [],
   "source": [
    "f = open('mydic.csv', 'r')"
   ]
  },
  {
   "cell_type": "code",
   "execution_count": 20,
   "metadata": {},
   "outputs": [],
   "source": [
    "mydata = f.readlines()"
   ]
  },
  {
   "cell_type": "code",
   "execution_count": 21,
   "metadata": {},
   "outputs": [],
   "source": [
    "f.close()"
   ]
  },
  {
   "cell_type": "code",
   "execution_count": 22,
   "metadata": {},
   "outputs": [
    {
     "data": {
      "text/plain": [
       "['apple,蘋果\\n', 'orange,橘子\\n', 'banana,香蕉\\n']"
      ]
     },
     "execution_count": 22,
     "metadata": {},
     "output_type": "execute_result"
    }
   ],
   "source": [
    "mydata"
   ]
  },
  {
   "cell_type": "code",
   "execution_count": 24,
   "metadata": {},
   "outputs": [
    {
     "name": "stdout",
     "output_type": "stream",
     "text": [
      "apple,蘋果\n",
      "\n",
      "orange,橘子\n",
      "\n",
      "banana,香蕉\n",
      "\n"
     ]
    }
   ],
   "source": [
    "for line in mydata:\n",
    "    print(line)"
   ]
  },
  {
   "cell_type": "code",
   "execution_count": 25,
   "metadata": {},
   "outputs": [],
   "source": [
    "line = mydata[1]"
   ]
  },
  {
   "cell_type": "code",
   "execution_count": 26,
   "metadata": {},
   "outputs": [
    {
     "data": {
      "text/plain": [
       "'orange,橘子\\n'"
      ]
     },
     "execution_count": 26,
     "metadata": {},
     "output_type": "execute_result"
    }
   ],
   "source": [
    "line"
   ]
  },
  {
   "cell_type": "code",
   "execution_count": 27,
   "metadata": {},
   "outputs": [],
   "source": [
    "line_new = line.rstrip('\\n')   ##切掉\\n"
   ]
  },
  {
   "cell_type": "code",
   "execution_count": 28,
   "metadata": {},
   "outputs": [
    {
     "data": {
      "text/plain": [
       "'orange,橘子'"
      ]
     },
     "execution_count": 28,
     "metadata": {},
     "output_type": "execute_result"
    }
   ],
   "source": [
    "line_new"
   ]
  },
  {
   "cell_type": "code",
   "execution_count": 29,
   "metadata": {},
   "outputs": [
    {
     "data": {
      "text/plain": [
       "['orange', '橘子']"
      ]
     },
     "execution_count": 29,
     "metadata": {},
     "output_type": "execute_result"
    }
   ],
   "source": [
    "line_new.split(',')"
   ]
  },
  {
   "cell_type": "code",
   "execution_count": 30,
   "metadata": {},
   "outputs": [],
   "source": [
    "newdic = {}"
   ]
  },
  {
   "cell_type": "code",
   "execution_count": 31,
   "metadata": {},
   "outputs": [
    {
     "data": {
      "text/plain": [
       "['apple,蘋果\\n', 'orange,橘子\\n', 'banana,香蕉\\n']"
      ]
     },
     "execution_count": 31,
     "metadata": {},
     "output_type": "execute_result"
    }
   ],
   "source": [
    "mydata"
   ]
  },
  {
   "cell_type": "code",
   "execution_count": 32,
   "metadata": {},
   "outputs": [],
   "source": [
    "newdic['water melon'] = '西瓜'"
   ]
  },
  {
   "cell_type": "code",
   "execution_count": 33,
   "metadata": {},
   "outputs": [
    {
     "data": {
      "text/plain": [
       "['apple,蘋果\\n', 'orange,橘子\\n', 'banana,香蕉\\n']"
      ]
     },
     "execution_count": 33,
     "metadata": {},
     "output_type": "execute_result"
    }
   ],
   "source": [
    "mydata"
   ]
  },
  {
   "cell_type": "code",
   "execution_count": 35,
   "metadata": {},
   "outputs": [
    {
     "name": "stdout",
     "output_type": "stream",
     "text": [
      "['apple', '蘋果']\n",
      "['orange', '橘子']\n",
      "['banana', '香蕉']\n"
     ]
    }
   ],
   "source": [
    "newdic = {}\n",
    "\n",
    "for line in mydata:\n",
    "    newline = line.rstrip('\\n')\n",
    "    print(newline.split(','))"
   ]
  },
  {
   "cell_type": "code",
   "execution_count": 36,
   "metadata": {},
   "outputs": [],
   "source": [
    "newdic = {}\n",
    "\n",
    "for line in mydata:\n",
    "    newline = line.rstrip('\\n')\n",
    "    mylist = newline.split(',')\n",
    "    eng, chi = mylist\n",
    "    newdic[eng] = chi"
   ]
  },
  {
   "cell_type": "code",
   "execution_count": 37,
   "metadata": {},
   "outputs": [],
   "source": [
    "line = mydata[2]"
   ]
  },
  {
   "cell_type": "code",
   "execution_count": 38,
   "metadata": {},
   "outputs": [
    {
     "data": {
      "text/plain": [
       "'banana'"
      ]
     },
     "execution_count": 38,
     "metadata": {},
     "output_type": "execute_result"
    }
   ],
   "source": [
    "eng"
   ]
  },
  {
   "cell_type": "code",
   "execution_count": 39,
   "metadata": {},
   "outputs": [
    {
     "data": {
      "text/plain": [
       "'香蕉'"
      ]
     },
     "execution_count": 39,
     "metadata": {},
     "output_type": "execute_result"
    }
   ],
   "source": [
    "chi"
   ]
  },
  {
   "cell_type": "code",
   "execution_count": 40,
   "metadata": {},
   "outputs": [
    {
     "data": {
      "text/plain": [
       "{'apple': '蘋果', 'orange': '橘子', 'banana': '香蕉'}"
      ]
     },
     "execution_count": 40,
     "metadata": {},
     "output_type": "execute_result"
    }
   ],
   "source": [
    "newdic"
   ]
  },
  {
   "cell_type": "markdown",
   "metadata": {},
   "source": [
    "## python 的 pickle 存取法"
   ]
  },
  {
   "cell_type": "code",
   "execution_count": 41,
   "metadata": {},
   "outputs": [
    {
     "data": {
      "text/plain": [
       "{'apple': '蘋果', 'orange': '橘子', 'banana': '香蕉'}"
      ]
     },
     "execution_count": 41,
     "metadata": {},
     "output_type": "execute_result"
    }
   ],
   "source": [
    "mydic"
   ]
  },
  {
   "cell_type": "code",
   "execution_count": 42,
   "metadata": {},
   "outputs": [],
   "source": [
    "import pickle"
   ]
  },
  {
   "cell_type": "code",
   "execution_count": 43,
   "metadata": {},
   "outputs": [],
   "source": [
    "f = open('mydic.pickle', 'wb')  ##wb:二進位"
   ]
  },
  {
   "cell_type": "code",
   "execution_count": 44,
   "metadata": {},
   "outputs": [],
   "source": [
    "pickle.dump(mydic, f)   ##傳:dump"
   ]
  },
  {
   "cell_type": "code",
   "execution_count": 45,
   "metadata": {},
   "outputs": [],
   "source": [
    "f.close()"
   ]
  },
  {
   "cell_type": "code",
   "execution_count": 46,
   "metadata": {
    "scrolled": true
   },
   "outputs": [
    {
     "name": "stdout",
     "output_type": "stream",
     "text": [
      " 磁碟區 C 中的磁碟是 Acer\n",
      " 磁碟區序號:  CEFC-4FC6\n",
      "\n",
      " C:\\spam\\My work 的目錄\n",
      "\n",
      "2019/10/16  上午 10:56    <DIR>          .\n",
      "2019/10/16  上午 10:56    <DIR>          ..\n",
      "2019/10/16  上午 09:17    <DIR>          .ipynb_checkpoints\n",
      "2019/09/25  上午 12:16             1,798 190918schedule.ipynb\n",
      "2019/10/15  下午 10:29           159,050 190918上課內容.ipynb\n",
      "2019/10/01  上午 12:06             1,528 190925hw等差數列.ipynb\n",
      "2019/10/01  上午 12:19             1,612 190925hw聖誕樹.ipynb\n",
      "2019/10/15  下午 10:24            24,039 190925上課內容.ipynb\n",
      "2019/10/07  下午 11:25             1,672 191002hw1費氏數列.ipynb\n",
      "2019/10/08  下午 10:02             2,275 191002hw2猜數字(二).ipynb\n",
      "2019/10/08  上午 06:35             1,537 191002hw3每日建議飲水量.ipynb\n",
      "2019/10/08  下午 10:47             2,639 191002hw4 機器人猜數字.ipynb\n",
      "2019/10/02  上午 09:59             6,604 191002上課內容.ipynb\n",
      "2019/10/15  下午 10:52             1,487 191009hw1用三角形邊長算面積.ipynb\n",
      "2019/10/15  下午 11:36            36,638 191009hw2推薦一首歌.ipynb\n",
      "2019/10/16  上午 12:59             1,686 191009hw3猜拳.ipynb\n",
      "2019/10/16  上午 12:31             1,443 191009hw4判斷閏年.ipynb\n",
      "2019/10/09  上午 11:58            62,249 191009上課內容.ipynb\n",
      "2019/10/16  上午 10:56            20,330 191016上課內容.ipynb\n",
      "2019/09/29  下午 08:13            16,069 m.jpg\n",
      "2019/10/16  上午 10:30                38 mydic.csv\n",
      "2019/10/16  上午 10:57                85 mydic.pickle\n",
      "2019/10/02  上午 09:58               466 poem.py\n",
      "2019/10/02  上午 10:43                33 README.md.txt\n",
      "              21 個檔案         343,278 位元組\n",
      "               3 個目錄  184,002,150,400 位元組可用\n"
     ]
    }
   ],
   "source": [
    "%ls"
   ]
  },
  {
   "cell_type": "code",
   "execution_count": 47,
   "metadata": {},
   "outputs": [],
   "source": [
    "f = open('mydic.pickle', 'rb')   ##讀or寫檔案:先open"
   ]
  },
  {
   "cell_type": "code",
   "execution_count": 48,
   "metadata": {},
   "outputs": [],
   "source": [
    "egg = pickle.load(f)   ##讀:load"
   ]
  },
  {
   "cell_type": "code",
   "execution_count": 49,
   "metadata": {},
   "outputs": [],
   "source": [
    "f.close()"
   ]
  },
  {
   "cell_type": "code",
   "execution_count": 50,
   "metadata": {},
   "outputs": [
    {
     "data": {
      "text/plain": [
       "{'apple': '蘋果', 'orange': '橘子', 'banana': '香蕉'}"
      ]
     },
     "execution_count": 50,
     "metadata": {},
     "output_type": "execute_result"
    }
   ],
   "source": [
    "egg"
   ]
  },
  {
   "cell_type": "markdown",
   "metadata": {},
   "source": [
    "### 隨意弄個檔案"
   ]
  },
  {
   "cell_type": "code",
   "execution_count": 66,
   "metadata": {},
   "outputs": [
    {
     "name": "stdout",
     "output_type": "stream",
     "text": [
      "Overwriting test.txt\n"
     ]
    }
   ],
   "source": [
    "%%writefile \"test.txt\"\n",
    "air    cloud\n",
    "rain  love life   "
   ]
  },
  {
   "cell_type": "code",
   "execution_count": 67,
   "metadata": {
    "scrolled": true
   },
   "outputs": [
    {
     "name": "stdout",
     "output_type": "stream",
     "text": [
      " 磁碟區 C 中的磁碟是 Acer\n",
      " 磁碟區序號:  CEFC-4FC6\n",
      "\n",
      " C:\\spam\\My work 的目錄\n",
      "\n",
      "2019/10/16  上午 11:24    <DIR>          .\n",
      "2019/10/16  上午 11:24    <DIR>          ..\n",
      "2019/10/16  上午 09:17    <DIR>          .ipynb_checkpoints\n",
      "2019/09/25  上午 12:16             1,798 190918schedule.ipynb\n",
      "2019/10/15  下午 10:29           159,050 190918上課內容.ipynb\n",
      "2019/10/01  上午 12:06             1,528 190925hw等差數列.ipynb\n",
      "2019/10/01  上午 12:19             1,612 190925hw聖誕樹.ipynb\n",
      "2019/10/15  下午 10:24            24,039 190925上課內容.ipynb\n",
      "2019/10/07  下午 11:25             1,672 191002hw1費氏數列.ipynb\n",
      "2019/10/08  下午 10:02             2,275 191002hw2猜數字(二).ipynb\n",
      "2019/10/08  上午 06:35             1,537 191002hw3每日建議飲水量.ipynb\n",
      "2019/10/08  下午 10:47             2,639 191002hw4 機器人猜數字.ipynb\n",
      "2019/10/02  上午 09:59             6,604 191002上課內容.ipynb\n",
      "2019/10/15  下午 10:52             1,487 191009hw1用三角形邊長算面積.ipynb\n",
      "2019/10/15  下午 11:36            36,638 191009hw2推薦一首歌.ipynb\n",
      "2019/10/16  上午 12:59             1,686 191009hw3猜拳.ipynb\n",
      "2019/10/16  上午 12:31             1,443 191009hw4判斷閏年.ipynb\n",
      "2019/10/09  上午 11:58            62,249 191009上課內容.ipynb\n",
      "2019/10/16  上午 11:24            27,097 191016上課內容.ipynb\n",
      "2019/09/29  下午 08:13            16,069 m.jpg\n",
      "2019/10/16  上午 10:30                38 mydic.csv\n",
      "2019/10/16  上午 10:57                85 mydic.pickle\n",
      "2019/10/02  上午 09:58               466 poem.py\n",
      "2019/10/02  上午 10:43                33 README.md.txt\n",
      "2019/10/16  上午 11:25                34 test.txt\n",
      "              22 個檔案         350,079 位元組\n",
      "               3 個目錄  184,001,802,240 位元組可用\n"
     ]
    }
   ],
   "source": [
    "%ls"
   ]
  },
  {
   "cell_type": "code",
   "execution_count": 101,
   "metadata": {},
   "outputs": [
    {
     "name": "stdout",
     "output_type": "stream",
     "text": [
      "air    cloud\n",
      "rain  love life   \n"
     ]
    }
   ],
   "source": [
    "!type \"test.txt\""
   ]
  },
  {
   "cell_type": "markdown",
   "metadata": {},
   "source": [
    "## 讀進來"
   ]
  },
  {
   "cell_type": "code",
   "execution_count": 102,
   "metadata": {},
   "outputs": [],
   "source": [
    "f = open('test.txt', 'r')"
   ]
  },
  {
   "cell_type": "code",
   "execution_count": 103,
   "metadata": {},
   "outputs": [],
   "source": [
    "mywords = f.readlines()   ##readline:只讀一行"
   ]
  },
  {
   "cell_type": "code",
   "execution_count": 104,
   "metadata": {},
   "outputs": [],
   "source": [
    "f.close()"
   ]
  },
  {
   "cell_type": "code",
   "execution_count": 105,
   "metadata": {},
   "outputs": [
    {
     "data": {
      "text/plain": [
       "['air    cloud\\n', 'rain  love life   \\n']"
      ]
     },
     "execution_count": 105,
     "metadata": {},
     "output_type": "execute_result"
    }
   ],
   "source": [
    "mywords"
   ]
  },
  {
   "cell_type": "code",
   "execution_count": 106,
   "metadata": {},
   "outputs": [],
   "source": [
    "line = mywords[1]   ##第二句"
   ]
  },
  {
   "cell_type": "code",
   "execution_count": 107,
   "metadata": {},
   "outputs": [
    {
     "data": {
      "text/plain": [
       "'rain  love life   \\n'"
      ]
     },
     "execution_count": 107,
     "metadata": {},
     "output_type": "execute_result"
    }
   ],
   "source": [
    "line"
   ]
  },
  {
   "cell_type": "code",
   "execution_count": 108,
   "metadata": {},
   "outputs": [
    {
     "data": {
      "text/plain": [
       "['rain', '', 'love', 'life', '', '', '\\n']"
      ]
     },
     "execution_count": 108,
     "metadata": {},
     "output_type": "execute_result"
    }
   ],
   "source": [
    "line.split(' ')   ##split:隔開"
   ]
  },
  {
   "cell_type": "code",
   "execution_count": 109,
   "metadata": {},
   "outputs": [],
   "source": [
    "egg = line.rstrip('\\n').split(' ')"
   ]
  },
  {
   "cell_type": "code",
   "execution_count": 110,
   "metadata": {},
   "outputs": [
    {
     "data": {
      "text/plain": [
       "['rain', '', 'love', 'life', '', '', '']"
      ]
     },
     "execution_count": 110,
     "metadata": {},
     "output_type": "execute_result"
    }
   ],
   "source": [
    "egg"
   ]
  },
  {
   "cell_type": "code",
   "execution_count": 111,
   "metadata": {},
   "outputs": [
    {
     "data": {
      "text/plain": [
       "['rain', 'love', 'life']"
      ]
     },
     "execution_count": 111,
     "metadata": {},
     "output_type": "execute_result"
    }
   ],
   "source": [
    "list(filter(lambda w: (w != ''), egg))"
   ]
  },
  {
   "cell_type": "code",
   "execution_count": 112,
   "metadata": {},
   "outputs": [
    {
     "data": {
      "text/plain": [
       "'rain  love life   \\n'"
      ]
     },
     "execution_count": 112,
     "metadata": {},
     "output_type": "execute_result"
    }
   ],
   "source": [
    "line"
   ]
  },
  {
   "cell_type": "code",
   "execution_count": 113,
   "metadata": {},
   "outputs": [
    {
     "data": {
      "text/plain": [
       "'rain  love life   '"
      ]
     },
     "execution_count": 113,
     "metadata": {},
     "output_type": "execute_result"
    }
   ],
   "source": [
    "line.rstrip('\\n')"
   ]
  },
  {
   "cell_type": "code",
   "execution_count": 114,
   "metadata": {},
   "outputs": [
    {
     "data": {
      "text/plain": [
       "['rain', 'love', 'life']"
      ]
     },
     "execution_count": 114,
     "metadata": {},
     "output_type": "execute_result"
    }
   ],
   "source": [
    "line.rstrip('\\n').split()   ##split括號裡面不打東西"
   ]
  },
  {
   "cell_type": "code",
   "execution_count": 115,
   "metadata": {},
   "outputs": [
    {
     "data": {
      "text/plain": [
       "['air    cloud\\n', 'rain  love life   \\n']"
      ]
     },
     "execution_count": 115,
     "metadata": {},
     "output_type": "execute_result"
    }
   ],
   "source": [
    "mywords"
   ]
  },
  {
   "cell_type": "code",
   "execution_count": 122,
   "metadata": {},
   "outputs": [],
   "source": [
    "words = []\n",
    "\n",
    "for line in mywords:\n",
    "    newlist = line.rstrip('\\n').split()\n",
    "    words = words + newlist"
   ]
  },
  {
   "cell_type": "code",
   "execution_count": 123,
   "metadata": {},
   "outputs": [
    {
     "data": {
      "text/plain": [
       "['air', 'cloud', 'rain', 'love', 'life']"
      ]
     },
     "execution_count": 123,
     "metadata": {},
     "output_type": "execute_result"
    }
   ],
   "source": [
    "words"
   ]
  },
  {
   "cell_type": "code",
   "execution_count": null,
   "metadata": {},
   "outputs": [],
   "source": []
  }
 ],
 "metadata": {
  "kernelspec": {
   "display_name": "Python 3",
   "language": "python",
   "name": "python3"
  },
  "language_info": {
   "codemirror_mode": {
    "name": "ipython",
    "version": 3
   },
   "file_extension": ".py",
   "mimetype": "text/x-python",
   "name": "python",
   "nbconvert_exporter": "python",
   "pygments_lexer": "ipython3",
   "version": "3.7.3"
  }
 },
 "nbformat": 4,
 "nbformat_minor": 2
}
