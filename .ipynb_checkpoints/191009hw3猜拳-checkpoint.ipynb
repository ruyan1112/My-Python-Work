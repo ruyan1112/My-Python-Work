{
 "cells": [
  {
   "cell_type": "code",
   "execution_count": 1,
   "metadata": {},
   "outputs": [],
   "source": [
    "%matplotlib inline\n",
    "import numpy as np\n",
    "import matplotlib.pyplot as plt\n",
    "import pandas as pd"
   ]
  },
  {
   "cell_type": "code",
   "execution_count": 3,
   "metadata": {},
   "outputs": [
    {
     "name": "stdout",
     "output_type": "stream",
     "text": [
      "剪刀石頭布!\n",
      "你出:石頭\n",
      "機器人出:剪刀\n",
      "你贏了!恭喜!\n"
     ]
    }
   ],
   "source": [
    "print(\"剪刀石頭布!\")\n",
    "\n",
    "egg = [\"剪刀\", \"石頭\", \"布\"]\n",
    "\n",
    "player = input(\"你出:\")\n",
    "\n",
    "robot = np.random.choice(egg)\n",
    "\n",
    "print(\"機器人出:{}\".format(robot))\n",
    "\n",
    "if(player==robot):\n",
    "    print(\"平手!\")\n",
    "elif(((player == \"剪刀\")and(robot == \"布\"))or((player == \"石頭\")and(robot == \"剪刀\"))or((player == \"布\")and(robot == \"石頭\"))):\n",
    "    print(\"你贏了!恭喜!\")\n",
    "else:\n",
    "    print(\"你輸了ㅠㅠ\")"
   ]
  },
  {
   "cell_type": "code",
   "execution_count": null,
   "metadata": {},
   "outputs": [],
   "source": []
  }
 ],
 "metadata": {
  "kernelspec": {
   "display_name": "Python 3",
   "language": "python",
   "name": "python3"
  },
  "language_info": {
   "codemirror_mode": {
    "name": "ipython",
    "version": 3
   },
   "file_extension": ".py",
   "mimetype": "text/x-python",
   "name": "python",
   "nbconvert_exporter": "python",
   "pygments_lexer": "ipython3",
   "version": "3.7.3"
  }
 },
 "nbformat": 4,
 "nbformat_minor": 2
}
