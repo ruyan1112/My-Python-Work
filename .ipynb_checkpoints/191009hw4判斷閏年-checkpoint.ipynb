{
 "cells": [
  {
   "cell_type": "code",
   "execution_count": 1,
   "metadata": {},
   "outputs": [],
   "source": [
    "%matplotlib inline\n",
    "import numpy as np\n",
    "import matplotlib.pyplot as plt\n",
    "import pandas as pd"
   ]
  },
  {
   "cell_type": "code",
   "execution_count": 6,
   "metadata": {},
   "outputs": [
    {
     "name": "stdout",
     "output_type": "stream",
     "text": [
      "請輸入年分(西元)2020\n",
      "2020年是閏年\n"
     ]
    }
   ],
   "source": [
    "year = int(input(\"請輸入年分(西元)\"))\n",
    "\n",
    "if(year%400 == 0):\n",
    "    print(\"{}年是閏年\".format(year))\n",
    "elif(year%100 == 0):\n",
    "    print(\"{}年不是閏年\".format(year))\n",
    "elif(year%4 == 0):\n",
    "    print(\"{}年是閏年\".format(year))\n",
    "else:\n",
    "    print(\"{}年不是閏年\".format(year))"
   ]
  },
  {
   "cell_type": "code",
   "execution_count": null,
   "metadata": {},
   "outputs": [],
   "source": []
  }
 ],
 "metadata": {
  "kernelspec": {
   "display_name": "Python 3",
   "language": "python",
   "name": "python3"
  },
  "language_info": {
   "codemirror_mode": {
    "name": "ipython",
    "version": 3
   },
   "file_extension": ".py",
   "mimetype": "text/x-python",
   "name": "python",
   "nbconvert_exporter": "python",
   "pygments_lexer": "ipython3",
   "version": "3.7.3"
  }
 },
 "nbformat": 4,
 "nbformat_minor": 2
}
