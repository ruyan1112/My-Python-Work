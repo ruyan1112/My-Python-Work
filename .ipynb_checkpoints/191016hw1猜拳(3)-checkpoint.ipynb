{
 "cells": [
  {
   "cell_type": "code",
   "execution_count": 2,
   "metadata": {},
   "outputs": [],
   "source": [
    "%matplotlib inline\n",
    "import numpy as np\n",
    "import matplotlib.pyplot as plt\n",
    "import pandas as pd"
   ]
  },
  {
   "cell_type": "code",
   "execution_count": 7,
   "metadata": {},
   "outputs": [
    {
     "name": "stdout",
     "output_type": "stream",
     "text": [
      "剪刀石頭布!\n",
      "你想玩幾局(請輸入奇數)>> 3\n",
      "3戰2勝制, 先贏2次的一方獲勝!\n",
      "\n",
      "你出:石頭\n",
      "機器人出:剪刀\n",
      "你:機器人=1:0\n",
      "\n",
      "你出:石頭\n",
      "機器人出:布\n",
      "你:機器人=1:1\n",
      "\n",
      "你出:石頭\n",
      "機器人出:石頭\n",
      "平手!這局不算!再來一次~\n",
      "\n",
      "你出:石頭\n",
      "機器人出:布\n",
      "你:機器人=1:2\n",
      "\n",
      "你輸了ㅠㅠ\n"
     ]
    }
   ],
   "source": [
    "print('剪刀石頭布!')\n",
    "\n",
    "egg = ['剪刀', '石頭', '布']\n",
    "\n",
    "ham = int(input('你想玩幾局(請輸入奇數)>> '))\n",
    "n = int((ham+1)/2)\n",
    "\n",
    "pw = 0\n",
    "rw = 0\n",
    "\n",
    "print('''{}戰{}勝制, 先贏{}次的一方獲勝!\n",
    "'''.format(ham, n, n))\n",
    "\n",
    "while( (pw<n) and (rw<n) ):\n",
    "    \n",
    "    player = input('你出:')\n",
    "    robot = np.random.choice(egg)\n",
    "    print('機器人出:{}'.format(robot))\n",
    "    \n",
    "    if(player == robot):\n",
    "        print('''平手!這局不算!再來一次~\n",
    "''')\n",
    "    elif(((player == \"剪刀\")and(robot == \"布\"))or((player == \"石頭\")and(robot == \"剪刀\"))or((player == \"布\")and(robot == \"石頭\"))):\n",
    "        pw = pw + 1\n",
    "        print('''你:機器人={}:{}\n",
    "'''.format(pw, rw))\n",
    "    else:\n",
    "        rw = rw + 1\n",
    "        print('''你:機器人={}:{}\n",
    "'''.format(pw, rw))\n",
    "              \n",
    "if(pw == n):\n",
    "    print('你贏了!恭喜你!')\n",
    "else:\n",
    "    print('你輸了ㅠㅠ')"
   ]
  },
  {
   "cell_type": "code",
   "execution_count": null,
   "metadata": {},
   "outputs": [],
   "source": []
  }
 ],
 "metadata": {
  "kernelspec": {
   "display_name": "Python 3",
   "language": "python",
   "name": "python3"
  },
  "language_info": {
   "codemirror_mode": {
    "name": "ipython",
    "version": 3
   },
   "file_extension": ".py",
   "mimetype": "text/x-python",
   "name": "python",
   "nbconvert_exporter": "python",
   "pygments_lexer": "ipython3",
   "version": "3.7.3"
  }
 },
 "nbformat": 4,
 "nbformat_minor": 2
}
