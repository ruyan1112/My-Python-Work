{
 "cells": [
  {
   "cell_type": "code",
   "execution_count": 1,
   "metadata": {},
   "outputs": [],
   "source": [
    "%matplotlib inline\n",
    "import numpy as np\n",
    "import matplotlib.pyplot as plt\n",
    "import pandas as pd"
   ]
  },
  {
   "cell_type": "code",
   "execution_count": 12,
   "metadata": {},
   "outputs": [
    {
     "name": "stdout",
     "output_type": "stream",
     "text": [
      "來對9,10月份發票吧!(不包含特獎)\n",
      "請輸入發票最後一碼>>3\n",
      "請繼續輸入發票後三碼>>693\n",
      "恭喜中$200!\n"
     ]
    }
   ],
   "source": [
    "print('來對9,10月份發票吧!(不包含特獎)')\n",
    "\n",
    "win1 = [2,3,4,5,6]\n",
    "win2 = [425,43,693]\n",
    "win3 = [504,762,435]\n",
    "win4 = [3504,762,9435]\n",
    "win5 = [93504,30762,79435]\n",
    "win6 = [193504,430762,379435]\n",
    "win7 = [6193504,7430762,379435]\n",
    "winall = [36193504,47430762,20379435]\n",
    "\n",
    "a = int(input('請輸入發票最後一碼>>'))\n",
    "\n",
    "if a in win1:\n",
    "    a = int(input('請繼續輸入發票後三碼>>'))\n",
    "    if a in win2:\n",
    "        print('恭喜中$200!')\n",
    "    elif a in win3:\n",
    "        a = int(input('至少中$200捏，再繼續輸入後四碼吧!>>'))\n",
    "        if a in win4:\n",
    "            a = int(input('至少中$1000捏，再繼續輸入後五碼吧!>>'))\n",
    "            if a in win5:\n",
    "                a = int(input('至少中$4000捏，再繼續輸入後六碼吧!>>'))\n",
    "                if a in win6:\n",
    "                    a = int(input('至少中$10000捏，再繼續輸入後七碼吧!>>'))\n",
    "                    if a in win7:\n",
    "                        a = int(input('至少中$40000捏，再繼續輸入全部八碼吧!>>'))\n",
    "                        if a in winall:\n",
    "                            print('恭喜中$20萬!!!')\n",
    "                        else:\n",
    "                            print('恭喜中$40000!')\n",
    "                    else:\n",
    "                        print('恭喜中$10000!')\n",
    "            else:\n",
    "                print('恭喜中$4000!')\n",
    "        else:\n",
    "            print('恭喜中$1000!')\n",
    "    else:\n",
    "        print('這張沒有中T^T')\n",
    "else:\n",
    "    print('這張沒有中T^T')"
   ]
  },
  {
   "cell_type": "code",
   "execution_count": null,
   "metadata": {},
   "outputs": [],
   "source": []
  }
 ],
 "metadata": {
  "kernelspec": {
   "display_name": "Python 3",
   "language": "python",
   "name": "python3"
  },
  "language_info": {
   "codemirror_mode": {
    "name": "ipython",
    "version": 3
   },
   "file_extension": ".py",
   "mimetype": "text/x-python",
   "name": "python",
   "nbconvert_exporter": "python",
   "pygments_lexer": "ipython3",
   "version": "3.7.3"
  }
 },
 "nbformat": 4,
 "nbformat_minor": 2
}
