{
 "cells": [
  {
   "cell_type": "code",
   "execution_count": 1,
   "metadata": {},
   "outputs": [],
   "source": [
    "%matplotlib inline\n",
    "import numpy as np\n",
    "import matplotlib.pyplot as plt\n",
    "import pandas as pd"
   ]
  },
  {
   "cell_type": "code",
   "execution_count": 3,
   "metadata": {},
   "outputs": [],
   "source": [
    "from numpy.random import randint"
   ]
  },
  {
   "cell_type": "code",
   "execution_count": 22,
   "metadata": {},
   "outputs": [
    {
     "name": "stdout",
     "output_type": "stream",
     "text": [
      "讓機器人來猜你的答案!\n",
      "(1~100 不含1和100)\n",
      "輸入你的答案>> 29\n",
      "機器人猜:39\n",
      "在1~39之間\n",
      "機器人猜:4\n",
      "在4~39之間\n",
      "機器人猜:17\n",
      "在17~39之間\n",
      "機器人猜:26\n",
      "在26~39之間\n",
      "機器人猜:30\n",
      "在26~30之間\n",
      "機器人猜:28\n",
      "在28~30之間\n",
      "機器人猜:29\n",
      "你的答案是29\n",
      "機器人猜了7次才答對!\n"
     ]
    }
   ],
   "source": [
    "print('''讓機器人來猜你的答案!\n",
    "(1~100 不含1和100)''')\n",
    "ans = input(\"輸入你的答案>> \")\n",
    "\n",
    "a = 1\n",
    "b = 100\n",
    "s = 1\n",
    "\n",
    "while True:\n",
    "    \n",
    "    guess = randint(a+1,b)\n",
    "    print(\"機器人猜:{}\".format(guess))\n",
    "    \n",
    "    if(guess < int(ans)):\n",
    "        a = guess\n",
    "        print(\"在{}~{}之間\".format(a,b))\n",
    "        s = s + 1\n",
    "        \n",
    "    elif(guess > int(ans)):\n",
    "        b = guess\n",
    "        print(\"在{}~{}之間\".format(a,b))\n",
    "        s = s + 1\n",
    "        \n",
    "    else:\n",
    "        print(\"你的答案是{}\".format(ans))\n",
    "        if(s <= 6):\n",
    "            print(\"機器人猜了{}次就答對了!\".format(s))\n",
    "        else:\n",
    "            print(\"機器人猜了{}次才答對!\".format(s))\n",
    "        break"
   ]
  },
  {
   "cell_type": "code",
   "execution_count": null,
   "metadata": {},
   "outputs": [],
   "source": []
  }
 ],
 "metadata": {
  "kernelspec": {
   "display_name": "Python 3",
   "language": "python",
   "name": "python3"
  },
  "language_info": {
   "codemirror_mode": {
    "name": "ipython",
    "version": 3
   },
   "file_extension": ".py",
   "mimetype": "text/x-python",
   "name": "python",
   "nbconvert_exporter": "python",
   "pygments_lexer": "ipython3",
   "version": "3.7.3"
  }
 },
 "nbformat": 4,
 "nbformat_minor": 2
}
