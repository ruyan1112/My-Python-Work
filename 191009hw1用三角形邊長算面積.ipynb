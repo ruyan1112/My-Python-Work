{
 "cells": [
  {
   "cell_type": "code",
   "execution_count": 3,
   "metadata": {},
   "outputs": [],
   "source": [
    "%matplotlib inline\n",
    "import numpy as np\n",
    "import matplotlib.pyplot as plt\n",
    "import pandas as pd"
   ]
  },
  {
   "cell_type": "code",
   "execution_count": 4,
   "metadata": {},
   "outputs": [],
   "source": [
    "import math"
   ]
  },
  {
   "cell_type": "code",
   "execution_count": 8,
   "metadata": {},
   "outputs": [
    {
     "name": "stdout",
     "output_type": "stream",
     "text": [
      "請分次輸入三角形三邊長:\n",
      "第一條邊>> 3\n",
      "第二條邊>> 5\n",
      "第三條邊>> 4\n",
      "此三角形面積為6.0\n"
     ]
    }
   ],
   "source": [
    "a = float(input('''請分次輸入三角形三邊長:\n",
    "第一條邊>> '''))\n",
    "b = float(input(\"第二條邊>> \"))\n",
    "c = float(input(\"第三條邊>> \"))\n",
    "\n",
    "s = (a+b+c)*0.5\n",
    "\n",
    "if( s*2-max(a, b, c) <= max(a, b, c)):\n",
    "    print(\"你的三角形邊長有問題唷!\")\n",
    "else:\n",
    "    A = math.sqrt(s*(s-a)*(s-b)*(s-c))\n",
    "    print(\"此三角形面積為{}\".format(A))"
   ]
  },
  {
   "cell_type": "code",
   "execution_count": null,
   "metadata": {},
   "outputs": [],
   "source": []
  }
 ],
 "metadata": {
  "kernelspec": {
   "display_name": "Python 3",
   "language": "python",
   "name": "python3"
  }
 },
 "nbformat": 4,
 "nbformat_minor": 2
}
