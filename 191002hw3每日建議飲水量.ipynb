{
 "cells": [
  {
   "cell_type": "code",
   "execution_count": 2,
   "metadata": {},
   "outputs": [],
   "source": [
    "%matplotlib inline\n",
    "import numpy as np\n",
    "import matplotlib.pyplot as plt\n",
    "import pandas as pd"
   ]
  },
  {
   "cell_type": "code",
   "execution_count": 4,
   "metadata": {},
   "outputs": [
    {
     "name": "stdout",
     "output_type": "stream",
     "text": [
      "請輸入你今天已經喝了多少水(ml)>> 500\n",
      "請輸入你的體重(kg)>> 50\n",
      "你每天應該喝1500.0ml的水\n",
      "你今天應該還要再喝大約1000ml的水\n"
     ]
    }
   ],
   "source": [
    "h = input(\"請輸入你今天已經喝了多少水(ml)>> \")\n",
    "w = input(\"請輸入你的體重(kg)>> \")\n",
    "\n",
    "s = float(w)*30\n",
    "n = int(float(s)-float(h))\n",
    "\n",
    "print(\"你每天應該喝{}ml的水\".format(s))\n",
    "print(\"你今天應該還要再喝大約{}ml的水\".format(n))"
   ]
  },
  {
   "cell_type": "code",
   "execution_count": null,
   "metadata": {},
   "outputs": [],
   "source": []
  }
 ],
 "metadata": {
  "kernelspec": {
   "display_name": "Python 3",
   "language": "python",
   "name": "python3"
  },
  "language_info": {
   "codemirror_mode": {
    "name": "ipython",
    "version": 3
   },
   "file_extension": ".py",
   "mimetype": "text/x-python",
   "name": "python",
   "nbconvert_exporter": "python",
   "pygments_lexer": "ipython3",
   "version": "3.7.3"
  }
 },
 "nbformat": 4,
 "nbformat_minor": 2
}
