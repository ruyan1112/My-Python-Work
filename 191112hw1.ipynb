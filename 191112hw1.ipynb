{
 "cells": [
  {
   "cell_type": "code",
   "execution_count": 1,
   "metadata": {},
   "outputs": [],
   "source": [
    "%matplotlib inline\n",
    "import numpy as np\n",
    "import matplotlib.pyplot as plt\n",
    "import pandas as pd"
   ]
  },
  {
   "cell_type": "markdown",
   "metadata": {},
   "source": [
    "### 資料輸入"
   ]
  },
  {
   "cell_type": "code",
   "execution_count": 14,
   "metadata": {},
   "outputs": [],
   "source": [
    "df_tmp = pd.read_html('https://tw.stock.yahoo.com/s/list.php?c=%AD%B9%AB%7E&rr=0.65835200%201573575661', encoding='big5')"
   ]
  },
  {
   "cell_type": "code",
   "execution_count": 15,
   "metadata": {},
   "outputs": [
    {
     "data": {
      "text/plain": [
       "5"
      ]
     },
     "execution_count": 15,
     "metadata": {},
     "output_type": "execute_result"
    }
   ],
   "source": [
    "len(df_tmp)"
   ]
  },
  {
   "cell_type": "code",
   "execution_count": 16,
   "metadata": {},
   "outputs": [],
   "source": [
    "df = df_tmp[2]"
   ]
  },
  {
   "cell_type": "code",
   "execution_count": 17,
   "metadata": {
    "scrolled": true
   },
   "outputs": [
    {
     "data": {
      "text/html": [
       "<div>\n",
       "<style scoped>\n",
       "    .dataframe tbody tr th:only-of-type {\n",
       "        vertical-align: middle;\n",
       "    }\n",
       "\n",
       "    .dataframe tbody tr th {\n",
       "        vertical-align: top;\n",
       "    }\n",
       "\n",
       "    .dataframe thead th {\n",
       "        text-align: right;\n",
       "    }\n",
       "</style>\n",
       "<table border=\"1\" class=\"dataframe\">\n",
       "  <thead>\n",
       "    <tr style=\"text-align: right;\">\n",
       "      <th></th>\n",
       "      <th>選擇</th>\n",
       "      <th>股票代號</th>\n",
       "      <th>時間</th>\n",
       "      <th>成交</th>\n",
       "      <th>買進</th>\n",
       "      <th>賣出</th>\n",
       "      <th>漲跌</th>\n",
       "      <th>張數</th>\n",
       "      <th>昨收</th>\n",
       "      <th>開盤</th>\n",
       "      <th>最高</th>\n",
       "      <th>最低</th>\n",
       "    </tr>\n",
       "  </thead>\n",
       "  <tbody>\n",
       "    <tr>\n",
       "      <th>0</th>\n",
       "      <td>NaN</td>\n",
       "      <td>1201 味全</td>\n",
       "      <td>13:30</td>\n",
       "      <td>25.15</td>\n",
       "      <td>25.15</td>\n",
       "      <td>25.25</td>\n",
       "      <td>▽0.05</td>\n",
       "      <td>881</td>\n",
       "      <td>25.20</td>\n",
       "      <td>25.25</td>\n",
       "      <td>25.40</td>\n",
       "      <td>25.05</td>\n",
       "    </tr>\n",
       "    <tr>\n",
       "      <th>1</th>\n",
       "      <td>NaN</td>\n",
       "      <td>1203 味王</td>\n",
       "      <td>13:16</td>\n",
       "      <td>27.10</td>\n",
       "      <td>27.05</td>\n",
       "      <td>27.10</td>\n",
       "      <td>0.00</td>\n",
       "      <td>139</td>\n",
       "      <td>27.10</td>\n",
       "      <td>27.25</td>\n",
       "      <td>27.30</td>\n",
       "      <td>27.00</td>\n",
       "    </tr>\n",
       "    <tr>\n",
       "      <th>2</th>\n",
       "      <td>NaN</td>\n",
       "      <td>1210 大成</td>\n",
       "      <td>14:30</td>\n",
       "      <td>38.80</td>\n",
       "      <td>38.75</td>\n",
       "      <td>38.80</td>\n",
       "      <td>△0.45</td>\n",
       "      <td>3385</td>\n",
       "      <td>38.35</td>\n",
       "      <td>38.85</td>\n",
       "      <td>39.00</td>\n",
       "      <td>38.60</td>\n",
       "    </tr>\n",
       "    <tr>\n",
       "      <th>3</th>\n",
       "      <td>NaN</td>\n",
       "      <td>1213 大飲</td>\n",
       "      <td>11:46</td>\n",
       "      <td>6.29</td>\n",
       "      <td>6.13</td>\n",
       "      <td>6.29</td>\n",
       "      <td>0.00</td>\n",
       "      <td>9</td>\n",
       "      <td>6.29</td>\n",
       "      <td>6.04</td>\n",
       "      <td>6.29</td>\n",
       "      <td>6.04</td>\n",
       "    </tr>\n",
       "    <tr>\n",
       "      <th>4</th>\n",
       "      <td>NaN</td>\n",
       "      <td>1215 卜蜂</td>\n",
       "      <td>14:30</td>\n",
       "      <td>64.90</td>\n",
       "      <td>64.80</td>\n",
       "      <td>64.90</td>\n",
       "      <td>△0.5</td>\n",
       "      <td>319</td>\n",
       "      <td>64.40</td>\n",
       "      <td>64.20</td>\n",
       "      <td>65.00</td>\n",
       "      <td>64.20</td>\n",
       "    </tr>\n",
       "  </tbody>\n",
       "</table>\n",
       "</div>"
      ],
      "text/plain": [
       "   選擇     股票代號     時間     成交     買進     賣出     漲跌    張數     昨收     開盤     最高  \\\n",
       "0 NaN  1201 味全  13:30  25.15  25.15  25.25  ▽0.05   881  25.20  25.25  25.40   \n",
       "1 NaN  1203 味王  13:16  27.10  27.05  27.10   0.00   139  27.10  27.25  27.30   \n",
       "2 NaN  1210 大成  14:30  38.80  38.75  38.80  △0.45  3385  38.35  38.85  39.00   \n",
       "3 NaN  1213 大飲  11:46   6.29   6.13   6.29   0.00     9   6.29   6.04   6.29   \n",
       "4 NaN  1215 卜蜂  14:30  64.90  64.80  64.90   △0.5   319  64.40  64.20  65.00   \n",
       "\n",
       "      最低  \n",
       "0  25.05  \n",
       "1  27.00  \n",
       "2  38.60  \n",
       "3   6.04  \n",
       "4  64.20  "
      ]
     },
     "execution_count": 17,
     "metadata": {},
     "output_type": "execute_result"
    }
   ],
   "source": [
    "df.head()"
   ]
  },
  {
   "cell_type": "markdown",
   "metadata": {},
   "source": [
    "### 刪除不需要的欄位"
   ]
  },
  {
   "cell_type": "code",
   "execution_count": 18,
   "metadata": {},
   "outputs": [],
   "source": [
    "df.drop('選擇', axis = 1, inplace = True)"
   ]
  },
  {
   "cell_type": "code",
   "execution_count": 19,
   "metadata": {},
   "outputs": [
    {
     "data": {
      "text/html": [
       "<div>\n",
       "<style scoped>\n",
       "    .dataframe tbody tr th:only-of-type {\n",
       "        vertical-align: middle;\n",
       "    }\n",
       "\n",
       "    .dataframe tbody tr th {\n",
       "        vertical-align: top;\n",
       "    }\n",
       "\n",
       "    .dataframe thead th {\n",
       "        text-align: right;\n",
       "    }\n",
       "</style>\n",
       "<table border=\"1\" class=\"dataframe\">\n",
       "  <thead>\n",
       "    <tr style=\"text-align: right;\">\n",
       "      <th></th>\n",
       "      <th>股票代號</th>\n",
       "      <th>時間</th>\n",
       "      <th>成交</th>\n",
       "      <th>買進</th>\n",
       "      <th>賣出</th>\n",
       "      <th>漲跌</th>\n",
       "      <th>張數</th>\n",
       "      <th>昨收</th>\n",
       "      <th>開盤</th>\n",
       "      <th>最高</th>\n",
       "      <th>最低</th>\n",
       "    </tr>\n",
       "  </thead>\n",
       "  <tbody>\n",
       "    <tr>\n",
       "      <th>0</th>\n",
       "      <td>1201 味全</td>\n",
       "      <td>13:30</td>\n",
       "      <td>25.15</td>\n",
       "      <td>25.15</td>\n",
       "      <td>25.25</td>\n",
       "      <td>▽0.05</td>\n",
       "      <td>881</td>\n",
       "      <td>25.20</td>\n",
       "      <td>25.25</td>\n",
       "      <td>25.40</td>\n",
       "      <td>25.05</td>\n",
       "    </tr>\n",
       "    <tr>\n",
       "      <th>1</th>\n",
       "      <td>1203 味王</td>\n",
       "      <td>13:16</td>\n",
       "      <td>27.10</td>\n",
       "      <td>27.05</td>\n",
       "      <td>27.10</td>\n",
       "      <td>0.00</td>\n",
       "      <td>139</td>\n",
       "      <td>27.10</td>\n",
       "      <td>27.25</td>\n",
       "      <td>27.30</td>\n",
       "      <td>27.00</td>\n",
       "    </tr>\n",
       "    <tr>\n",
       "      <th>2</th>\n",
       "      <td>1210 大成</td>\n",
       "      <td>14:30</td>\n",
       "      <td>38.80</td>\n",
       "      <td>38.75</td>\n",
       "      <td>38.80</td>\n",
       "      <td>△0.45</td>\n",
       "      <td>3385</td>\n",
       "      <td>38.35</td>\n",
       "      <td>38.85</td>\n",
       "      <td>39.00</td>\n",
       "      <td>38.60</td>\n",
       "    </tr>\n",
       "    <tr>\n",
       "      <th>3</th>\n",
       "      <td>1213 大飲</td>\n",
       "      <td>11:46</td>\n",
       "      <td>6.29</td>\n",
       "      <td>6.13</td>\n",
       "      <td>6.29</td>\n",
       "      <td>0.00</td>\n",
       "      <td>9</td>\n",
       "      <td>6.29</td>\n",
       "      <td>6.04</td>\n",
       "      <td>6.29</td>\n",
       "      <td>6.04</td>\n",
       "    </tr>\n",
       "    <tr>\n",
       "      <th>4</th>\n",
       "      <td>1215 卜蜂</td>\n",
       "      <td>14:30</td>\n",
       "      <td>64.90</td>\n",
       "      <td>64.80</td>\n",
       "      <td>64.90</td>\n",
       "      <td>△0.5</td>\n",
       "      <td>319</td>\n",
       "      <td>64.40</td>\n",
       "      <td>64.20</td>\n",
       "      <td>65.00</td>\n",
       "      <td>64.20</td>\n",
       "    </tr>\n",
       "  </tbody>\n",
       "</table>\n",
       "</div>"
      ],
      "text/plain": [
       "      股票代號     時間     成交     買進     賣出     漲跌    張數     昨收     開盤     最高  \\\n",
       "0  1201 味全  13:30  25.15  25.15  25.25  ▽0.05   881  25.20  25.25  25.40   \n",
       "1  1203 味王  13:16  27.10  27.05  27.10   0.00   139  27.10  27.25  27.30   \n",
       "2  1210 大成  14:30  38.80  38.75  38.80  △0.45  3385  38.35  38.85  39.00   \n",
       "3  1213 大飲  11:46   6.29   6.13   6.29   0.00     9   6.29   6.04   6.29   \n",
       "4  1215 卜蜂  14:30  64.90  64.80  64.90   △0.5   319  64.40  64.20  65.00   \n",
       "\n",
       "      最低  \n",
       "0  25.05  \n",
       "1  27.00  \n",
       "2  38.60  \n",
       "3   6.04  \n",
       "4  64.20  "
      ]
     },
     "execution_count": 19,
     "metadata": {},
     "output_type": "execute_result"
    }
   ],
   "source": [
    "df.head()"
   ]
  },
  {
   "cell_type": "markdown",
   "metadata": {},
   "source": [
    "### 新增項目:買進-賣出&最高-最低"
   ]
  },
  {
   "cell_type": "code",
   "execution_count": 20,
   "metadata": {},
   "outputs": [],
   "source": [
    "df['買進-賣出'] = df.買進 -df.賣出"
   ]
  },
  {
   "cell_type": "code",
   "execution_count": 21,
   "metadata": {},
   "outputs": [
    {
     "data": {
      "text/html": [
       "<div>\n",
       "<style scoped>\n",
       "    .dataframe tbody tr th:only-of-type {\n",
       "        vertical-align: middle;\n",
       "    }\n",
       "\n",
       "    .dataframe tbody tr th {\n",
       "        vertical-align: top;\n",
       "    }\n",
       "\n",
       "    .dataframe thead th {\n",
       "        text-align: right;\n",
       "    }\n",
       "</style>\n",
       "<table border=\"1\" class=\"dataframe\">\n",
       "  <thead>\n",
       "    <tr style=\"text-align: right;\">\n",
       "      <th></th>\n",
       "      <th>股票代號</th>\n",
       "      <th>時間</th>\n",
       "      <th>成交</th>\n",
       "      <th>買進</th>\n",
       "      <th>賣出</th>\n",
       "      <th>漲跌</th>\n",
       "      <th>張數</th>\n",
       "      <th>昨收</th>\n",
       "      <th>開盤</th>\n",
       "      <th>最高</th>\n",
       "      <th>最低</th>\n",
       "      <th>買進-賣出</th>\n",
       "    </tr>\n",
       "  </thead>\n",
       "  <tbody>\n",
       "    <tr>\n",
       "      <th>6</th>\n",
       "      <td>1217 愛之味</td>\n",
       "      <td>13:30</td>\n",
       "      <td>6.99</td>\n",
       "      <td>6.99</td>\n",
       "      <td>7.0</td>\n",
       "      <td>0.00</td>\n",
       "      <td>247</td>\n",
       "      <td>6.99</td>\n",
       "      <td>6.99</td>\n",
       "      <td>7.01</td>\n",
       "      <td>6.98</td>\n",
       "      <td>-0.01</td>\n",
       "    </tr>\n",
       "    <tr>\n",
       "      <th>9</th>\n",
       "      <td>1220 台榮</td>\n",
       "      <td>13:30</td>\n",
       "      <td>10.00</td>\n",
       "      <td>9.99</td>\n",
       "      <td>10.0</td>\n",
       "      <td>0.00</td>\n",
       "      <td>89</td>\n",
       "      <td>10.00</td>\n",
       "      <td>10.00</td>\n",
       "      <td>10.05</td>\n",
       "      <td>9.99</td>\n",
       "      <td>-0.01</td>\n",
       "    </tr>\n",
       "    <tr>\n",
       "      <th>2</th>\n",
       "      <td>1210 大成</td>\n",
       "      <td>14:30</td>\n",
       "      <td>38.80</td>\n",
       "      <td>38.75</td>\n",
       "      <td>38.8</td>\n",
       "      <td>△0.45</td>\n",
       "      <td>3385</td>\n",
       "      <td>38.35</td>\n",
       "      <td>38.85</td>\n",
       "      <td>39.00</td>\n",
       "      <td>38.60</td>\n",
       "      <td>-0.05</td>\n",
       "    </tr>\n",
       "    <tr>\n",
       "      <th>20</th>\n",
       "      <td>1702 南僑</td>\n",
       "      <td>13:30</td>\n",
       "      <td>49.80</td>\n",
       "      <td>49.75</td>\n",
       "      <td>49.8</td>\n",
       "      <td>△0.15</td>\n",
       "      <td>142</td>\n",
       "      <td>49.65</td>\n",
       "      <td>49.70</td>\n",
       "      <td>49.85</td>\n",
       "      <td>49.70</td>\n",
       "      <td>-0.05</td>\n",
       "    </tr>\n",
       "    <tr>\n",
       "      <th>12</th>\n",
       "      <td>1229 聯華</td>\n",
       "      <td>13:30</td>\n",
       "      <td>34.50</td>\n",
       "      <td>34.45</td>\n",
       "      <td>34.5</td>\n",
       "      <td>△0.20</td>\n",
       "      <td>835</td>\n",
       "      <td>34.30</td>\n",
       "      <td>34.15</td>\n",
       "      <td>34.50</td>\n",
       "      <td>34.15</td>\n",
       "      <td>-0.05</td>\n",
       "    </tr>\n",
       "  </tbody>\n",
       "</table>\n",
       "</div>"
      ],
      "text/plain": [
       "        股票代號     時間     成交     買進    賣出     漲跌    張數     昨收     開盤     最高  \\\n",
       "6   1217 愛之味  13:30   6.99   6.99   7.0   0.00   247   6.99   6.99   7.01   \n",
       "9    1220 台榮  13:30  10.00   9.99  10.0   0.00    89  10.00  10.00  10.05   \n",
       "2    1210 大成  14:30  38.80  38.75  38.8  △0.45  3385  38.35  38.85  39.00   \n",
       "20   1702 南僑  13:30  49.80  49.75  49.8  △0.15   142  49.65  49.70  49.85   \n",
       "12   1229 聯華  13:30  34.50  34.45  34.5  △0.20   835  34.30  34.15  34.50   \n",
       "\n",
       "       最低  買進-賣出  \n",
       "6    6.98  -0.01  \n",
       "9    9.99  -0.01  \n",
       "2   38.60  -0.05  \n",
       "20  49.70  -0.05  \n",
       "12  34.15  -0.05  "
      ]
     },
     "execution_count": 21,
     "metadata": {},
     "output_type": "execute_result"
    }
   ],
   "source": [
    "df.sort_values('買進-賣出', ascending = False).head()"
   ]
  },
  {
   "cell_type": "code",
   "execution_count": 22,
   "metadata": {},
   "outputs": [],
   "source": [
    "df['最高-最低'] = df.最高 -df.最低"
   ]
  },
  {
   "cell_type": "code",
   "execution_count": 23,
   "metadata": {},
   "outputs": [
    {
     "data": {
      "text/html": [
       "<div>\n",
       "<style scoped>\n",
       "    .dataframe tbody tr th:only-of-type {\n",
       "        vertical-align: middle;\n",
       "    }\n",
       "\n",
       "    .dataframe tbody tr th {\n",
       "        vertical-align: top;\n",
       "    }\n",
       "\n",
       "    .dataframe thead th {\n",
       "        text-align: right;\n",
       "    }\n",
       "</style>\n",
       "<table border=\"1\" class=\"dataframe\">\n",
       "  <thead>\n",
       "    <tr style=\"text-align: right;\">\n",
       "      <th></th>\n",
       "      <th>股票代號</th>\n",
       "      <th>時間</th>\n",
       "      <th>成交</th>\n",
       "      <th>買進</th>\n",
       "      <th>賣出</th>\n",
       "      <th>漲跌</th>\n",
       "      <th>張數</th>\n",
       "      <th>昨收</th>\n",
       "      <th>開盤</th>\n",
       "      <th>最高</th>\n",
       "      <th>最低</th>\n",
       "      <th>買進-賣出</th>\n",
       "      <th>最高-最低</th>\n",
       "    </tr>\n",
       "  </thead>\n",
       "  <tbody>\n",
       "    <tr>\n",
       "      <th>19</th>\n",
       "      <td>1256 鮮活果汁-KY</td>\n",
       "      <td>13:30</td>\n",
       "      <td>215.50</td>\n",
       "      <td>214.50</td>\n",
       "      <td>215.50</td>\n",
       "      <td>△1.0</td>\n",
       "      <td>46</td>\n",
       "      <td>214.5</td>\n",
       "      <td>215.0</td>\n",
       "      <td>216.5</td>\n",
       "      <td>214.5</td>\n",
       "      <td>-1.0</td>\n",
       "      <td>2.0</td>\n",
       "    </tr>\n",
       "    <tr>\n",
       "      <th>5</th>\n",
       "      <td>1216 統一</td>\n",
       "      <td>14:30</td>\n",
       "      <td>73.40</td>\n",
       "      <td>73.40</td>\n",
       "      <td>73.60</td>\n",
       "      <td>△0.2</td>\n",
       "      <td>6024</td>\n",
       "      <td>73.2</td>\n",
       "      <td>73.8</td>\n",
       "      <td>73.9</td>\n",
       "      <td>73.0</td>\n",
       "      <td>-0.2</td>\n",
       "      <td>0.9</td>\n",
       "    </tr>\n",
       "    <tr>\n",
       "      <th>13</th>\n",
       "      <td>1231 聯華食</td>\n",
       "      <td>13:30</td>\n",
       "      <td>40.55</td>\n",
       "      <td>40.55</td>\n",
       "      <td>40.65</td>\n",
       "      <td>▽0.55</td>\n",
       "      <td>558</td>\n",
       "      <td>41.1</td>\n",
       "      <td>41.1</td>\n",
       "      <td>41.1</td>\n",
       "      <td>40.3</td>\n",
       "      <td>-0.1</td>\n",
       "      <td>0.8</td>\n",
       "    </tr>\n",
       "    <tr>\n",
       "      <th>11</th>\n",
       "      <td>1227 佳格</td>\n",
       "      <td>14:30</td>\n",
       "      <td>62.30</td>\n",
       "      <td>62.00</td>\n",
       "      <td>62.30</td>\n",
       "      <td>△0.2</td>\n",
       "      <td>367</td>\n",
       "      <td>62.1</td>\n",
       "      <td>62.1</td>\n",
       "      <td>62.3</td>\n",
       "      <td>61.5</td>\n",
       "      <td>-0.3</td>\n",
       "      <td>0.8</td>\n",
       "    </tr>\n",
       "    <tr>\n",
       "      <th>4</th>\n",
       "      <td>1215 卜蜂</td>\n",
       "      <td>14:30</td>\n",
       "      <td>64.90</td>\n",
       "      <td>64.80</td>\n",
       "      <td>64.90</td>\n",
       "      <td>△0.5</td>\n",
       "      <td>319</td>\n",
       "      <td>64.4</td>\n",
       "      <td>64.2</td>\n",
       "      <td>65.0</td>\n",
       "      <td>64.2</td>\n",
       "      <td>-0.1</td>\n",
       "      <td>0.8</td>\n",
       "    </tr>\n",
       "  </tbody>\n",
       "</table>\n",
       "</div>"
      ],
      "text/plain": [
       "            股票代號     時間      成交      買進      賣出     漲跌    張數     昨收     開盤  \\\n",
       "19  1256 鮮活果汁-KY  13:30  215.50  214.50  215.50   △1.0    46  214.5  215.0   \n",
       "5        1216 統一  14:30   73.40   73.40   73.60   △0.2  6024   73.2   73.8   \n",
       "13      1231 聯華食  13:30   40.55   40.55   40.65  ▽0.55   558   41.1   41.1   \n",
       "11       1227 佳格  14:30   62.30   62.00   62.30   △0.2   367   62.1   62.1   \n",
       "4        1215 卜蜂  14:30   64.90   64.80   64.90   △0.5   319   64.4   64.2   \n",
       "\n",
       "       最高     最低  買進-賣出  最高-最低  \n",
       "19  216.5  214.5   -1.0    2.0  \n",
       "5    73.9   73.0   -0.2    0.9  \n",
       "13   41.1   40.3   -0.1    0.8  \n",
       "11   62.3   61.5   -0.3    0.8  \n",
       "4    65.0   64.2   -0.1    0.8  "
      ]
     },
     "execution_count": 23,
     "metadata": {},
     "output_type": "execute_result"
    }
   ],
   "source": [
    "df.sort_values('最高-最低', ascending = False).head()"
   ]
  },
  {
   "cell_type": "markdown",
   "metadata": {},
   "source": [
    "### 查看單一項目"
   ]
  },
  {
   "cell_type": "code",
   "execution_count": 32,
   "metadata": {},
   "outputs": [],
   "source": [
    "df_1 = df[['股票代號', '買進-賣出']]"
   ]
  },
  {
   "cell_type": "code",
   "execution_count": 33,
   "metadata": {},
   "outputs": [],
   "source": [
    "df_1 = df_1.sort_values('買進-賣出', ascending = False)"
   ]
  },
  {
   "cell_type": "code",
   "execution_count": 34,
   "metadata": {},
   "outputs": [
    {
     "data": {
      "text/html": [
       "<div>\n",
       "<style scoped>\n",
       "    .dataframe tbody tr th:only-of-type {\n",
       "        vertical-align: middle;\n",
       "    }\n",
       "\n",
       "    .dataframe tbody tr th {\n",
       "        vertical-align: top;\n",
       "    }\n",
       "\n",
       "    .dataframe thead th {\n",
       "        text-align: right;\n",
       "    }\n",
       "</style>\n",
       "<table border=\"1\" class=\"dataframe\">\n",
       "  <thead>\n",
       "    <tr style=\"text-align: right;\">\n",
       "      <th></th>\n",
       "      <th>股票代號</th>\n",
       "      <th>買進-賣出</th>\n",
       "    </tr>\n",
       "  </thead>\n",
       "  <tbody>\n",
       "    <tr>\n",
       "      <th>6</th>\n",
       "      <td>1217 愛之味</td>\n",
       "      <td>-0.01</td>\n",
       "    </tr>\n",
       "    <tr>\n",
       "      <th>9</th>\n",
       "      <td>1220 台榮</td>\n",
       "      <td>-0.01</td>\n",
       "    </tr>\n",
       "    <tr>\n",
       "      <th>2</th>\n",
       "      <td>1210 大成</td>\n",
       "      <td>-0.05</td>\n",
       "    </tr>\n",
       "    <tr>\n",
       "      <th>20</th>\n",
       "      <td>1702 南僑</td>\n",
       "      <td>-0.05</td>\n",
       "    </tr>\n",
       "    <tr>\n",
       "      <th>12</th>\n",
       "      <td>1229 聯華</td>\n",
       "      <td>-0.05</td>\n",
       "    </tr>\n",
       "  </tbody>\n",
       "</table>\n",
       "</div>"
      ],
      "text/plain": [
       "        股票代號  買進-賣出\n",
       "6   1217 愛之味  -0.01\n",
       "9    1220 台榮  -0.01\n",
       "2    1210 大成  -0.05\n",
       "20   1702 南僑  -0.05\n",
       "12   1229 聯華  -0.05"
      ]
     },
     "execution_count": 34,
     "metadata": {},
     "output_type": "execute_result"
    }
   ],
   "source": [
    "df_1.head()"
   ]
  },
  {
   "cell_type": "code",
   "execution_count": 29,
   "metadata": {},
   "outputs": [],
   "source": [
    "df_2 = df[['股票代號', '最高-最低']]"
   ]
  },
  {
   "cell_type": "code",
   "execution_count": 30,
   "metadata": {},
   "outputs": [],
   "source": [
    "df_2 = df_2.sort_values('最高-最低', ascending = False)"
   ]
  },
  {
   "cell_type": "code",
   "execution_count": 31,
   "metadata": {},
   "outputs": [
    {
     "data": {
      "text/html": [
       "<div>\n",
       "<style scoped>\n",
       "    .dataframe tbody tr th:only-of-type {\n",
       "        vertical-align: middle;\n",
       "    }\n",
       "\n",
       "    .dataframe tbody tr th {\n",
       "        vertical-align: top;\n",
       "    }\n",
       "\n",
       "    .dataframe thead th {\n",
       "        text-align: right;\n",
       "    }\n",
       "</style>\n",
       "<table border=\"1\" class=\"dataframe\">\n",
       "  <thead>\n",
       "    <tr style=\"text-align: right;\">\n",
       "      <th></th>\n",
       "      <th>股票代號</th>\n",
       "      <th>最高-最低</th>\n",
       "    </tr>\n",
       "  </thead>\n",
       "  <tbody>\n",
       "    <tr>\n",
       "      <th>19</th>\n",
       "      <td>1256 鮮活果汁-KY</td>\n",
       "      <td>2.0</td>\n",
       "    </tr>\n",
       "    <tr>\n",
       "      <th>5</th>\n",
       "      <td>1216 統一</td>\n",
       "      <td>0.9</td>\n",
       "    </tr>\n",
       "    <tr>\n",
       "      <th>13</th>\n",
       "      <td>1231 聯華食</td>\n",
       "      <td>0.8</td>\n",
       "    </tr>\n",
       "    <tr>\n",
       "      <th>11</th>\n",
       "      <td>1227 佳格</td>\n",
       "      <td>0.8</td>\n",
       "    </tr>\n",
       "    <tr>\n",
       "      <th>4</th>\n",
       "      <td>1215 卜蜂</td>\n",
       "      <td>0.8</td>\n",
       "    </tr>\n",
       "  </tbody>\n",
       "</table>\n",
       "</div>"
      ],
      "text/plain": [
       "            股票代號  最高-最低\n",
       "19  1256 鮮活果汁-KY    2.0\n",
       "5        1216 統一    0.9\n",
       "13      1231 聯華食    0.8\n",
       "11       1227 佳格    0.8\n",
       "4        1215 卜蜂    0.8"
      ]
     },
     "execution_count": 31,
     "metadata": {},
     "output_type": "execute_result"
    }
   ],
   "source": [
    "df_2.head()"
   ]
  },
  {
   "cell_type": "markdown",
   "metadata": {},
   "source": [
    "### 繪製成圖形"
   ]
  },
  {
   "cell_type": "code",
   "execution_count": 57,
   "metadata": {
    "scrolled": false
   },
   "outputs": [
    {
     "data": {
      "text/plain": [
       "<matplotlib.axes._subplots.AxesSubplot at 0x1b8a95b6eb8>"
      ]
     },
     "execution_count": 57,
     "metadata": {},
     "output_type": "execute_result"
    },
    {
     "data": {
      "image/png": "[encoded data removed]",
      "text/plain": [
       "<Figure size 432x288 with 1 Axes>"
      ]
     },
     "metadata": {
      "needs_background": "light"
     },
     "output_type": "display_data"
    }
   ],
   "source": [
    "df.昨收.plot(color='pink')"
   ]
  },
  {
   "cell_type": "code",
   "execution_count": 55,
   "metadata": {},
   "outputs": [
    {
     "data": {
      "text/plain": [
       "<matplotlib.axes._subplots.AxesSubplot at 0x1b8a94efa20>"
      ]
     },
     "execution_count": 55,
     "metadata": {},
     "output_type": "execute_result"
    },
    {
     "data": {
      "image/png": "[encoded data removed]",
      "text/plain": [
       "<Figure size 432x288 with 1 Axes>"
      ]
     },
     "metadata": {
      "needs_background": "light"
     },
     "output_type": "display_data"
    }
   ],
   "source": [
    "df.開盤.plot(color='y')"
   ]
  },
  {
   "cell_type": "code",
   "execution_count": 58,
   "metadata": {},
   "outputs": [
    {
     "data": {
      "text/plain": [
       "<matplotlib.axes._subplots.AxesSubplot at 0x1b8a961ee80>"
      ]
     },
     "execution_count": 58,
     "metadata": {},
     "output_type": "execute_result"
    },
    {
     "data": {
      "image/png": "[encoded data removed]",
      "text/plain": [
       "<Figure size 432x288 with 1 Axes>"
      ]
     },
     "metadata": {
      "needs_background": "light"
     },
     "output_type": "display_data"
    }
   ],
   "source": [
    "df.張數.plot(color='purple')"
   ]
  },
  {
   "cell_type": "code",
   "execution_count": null,
   "metadata": {},
   "outputs": [],
   "source": []
  }
 ],
 "metadata": {
  "kernelspec": {
   "display_name": "Python 3",
   "language": "python",
   "name": "python3"
  },
  "language_info": {
   "codemirror_mode": {
    "name": "ipython",
    "version": 3
   },
   "file_extension": ".py",
   "mimetype": "text/x-python",
   "name": "python",
   "nbconvert_exporter": "python",
   "pygments_lexer": "ipython3",
   "version": "3.7.3"
  }
 },
 "nbformat": 4,
 "nbformat_minor": 2
}
