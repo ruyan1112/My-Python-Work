{
 "cells": [
  {
   "cell_type": "code",
   "execution_count": 1,
   "metadata": {},
   "outputs": [],
   "source": [
    "%matplotlib inline\n",
    "import numpy as np\n",
    "import matplotlib.pyplot as plt\n",
    "import pandas as pd"
   ]
  },
  {
   "cell_type": "code",
   "execution_count": 28,
   "metadata": {
    "scrolled": false
   },
   "outputs": [
    {
     "name": "stdout",
     "output_type": "stream",
     "text": [
      "請輸入蝴蝶結的寬度>> 11\n",
      "*         *\n",
      "**       **\n",
      "***     ***\n",
      "****   ****\n",
      "***** *****\n",
      "***********\n",
      "***** *****\n",
      "****   ****\n",
      "***     ***\n",
      "**       **\n",
      "*         *\n"
     ]
    }
   ],
   "source": [
    "n = int(input('請輸入蝴蝶結的寬度>> '))\n",
    "    \n",
    "if (n%2 == 1):\n",
    "    m = int(((n-1)/2)+1)\n",
    "    for i in range(1, n+1):\n",
    "        if (i<m):\n",
    "            print('*'*i+' '*(n-i*2)+'*'*i)\n",
    "        elif (i == m):\n",
    "            print('*'*n)\n",
    "        else:\n",
    "            print('*'*(n+1-i)+' '*((i-m)*2-1)+'*'*(n+1-i))\n",
    "            \n",
    "else:\n",
    "    m = int(n/2+1)\n",
    "    for i in range(1, n+1):\n",
    "        if (i<m):\n",
    "            print('*'*i+' '*(n-i*2)+'*'*i)\n",
    "        else:\n",
    "            print('*'*(n+1-i)+' '*((i-m)*2)+'*'*(n+1-i))"
   ]
  },
  {
   "cell_type": "code",
   "execution_count": null,
   "metadata": {},
   "outputs": [],
   "source": []
  }
 ],
 "metadata": {
  "kernelspec": {
   "display_name": "Python 3",
   "language": "python",
   "name": "python3"
  },
  "language_info": {
   "codemirror_mode": {
    "name": "ipython",
    "version": 3
   },
   "file_extension": ".py",
   "mimetype": "text/x-python",
   "name": "python",
   "nbconvert_exporter": "python",
   "pygments_lexer": "ipython3",
   "version": "3.7.3"
  }
 },
 "nbformat": 4,
 "nbformat_minor": 2
}
